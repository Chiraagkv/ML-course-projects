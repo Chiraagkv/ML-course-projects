{
 "cells": [
  {
   "cell_type": "markdown",
   "id": "c51aee03",
   "metadata": {},
   "source": [
    "# AI Student Community Challenge of the Month August\n",
    "\n",
    "## 1. Problem Definition\n",
    "> You have started a new company with your recently built AI-enabled solution, and like many other companies, you are looking at different ways of marketing your product so that everyone gets to know about it. Being an AI enthusiast yourself, you wish to use AI to decide which is the best way to get maximum returns from the major options available (TV, Newspaper, Radio, etc)\n",
    "\n",
    "We need to use Linear Regression and any suitable dataset to predict the distribution of our marketing budget\n",
    "\n",
    "## 2. Data\n",
    "\n",
    "* The data is taken from [The Dummy Advertising and Sales data](https://www.kaggle.com/harrimansaragih/dummy-advertising-and-sales-data) dataset.\n",
    "\n",
    "## 3. Evaluation\n",
    "* Our aim is to create a model with an MAE <= 10\n",
    "\n",
    "## 4. Features\n",
    "\n",
    "The features of our data are:\n",
    " 1. Total money\n",
    " 2. Sales\n",
    "\n",
    "The Labels of our data are:\n",
    " 1. TV:- The amount spent on TV advertising\n",
    " 2. Radio:- The amount spent on a radio advertising\n",
    " 3. Social Media:- The amount spent on social media advertising"
   ]
  },
  {
   "cell_type": "markdown",
   "id": "e59fdb83",
   "metadata": {},
   "source": [
    "## Exploratory Data Analysis and Data Pre-processing"
   ]
  },
  {
   "cell_type": "code",
   "execution_count": 1,
   "id": "2ee62eb2",
   "metadata": {},
   "outputs": [],
   "source": [
    "import pandas as pd\n",
    "import numpy as np\n",
    "import matplotlib.pyplot as plt"
   ]
  },
  {
   "cell_type": "code",
   "execution_count": 2,
   "id": "cf7cd89b",
   "metadata": {},
   "outputs": [
    {
     "data": {
      "text/html": [
       "<div>\n",
       "<style scoped>\n",
       "    .dataframe tbody tr th:only-of-type {\n",
       "        vertical-align: middle;\n",
       "    }\n",
       "\n",
       "    .dataframe tbody tr th {\n",
       "        vertical-align: top;\n",
       "    }\n",
       "\n",
       "    .dataframe thead th {\n",
       "        text-align: right;\n",
       "    }\n",
       "</style>\n",
       "<table border=\"1\" class=\"dataframe\">\n",
       "  <thead>\n",
       "    <tr style=\"text-align: right;\">\n",
       "      <th></th>\n",
       "      <th>TV</th>\n",
       "      <th>Radio</th>\n",
       "      <th>Social Media</th>\n",
       "      <th>Influencer</th>\n",
       "      <th>Sales</th>\n",
       "    </tr>\n",
       "  </thead>\n",
       "  <tbody>\n",
       "    <tr>\n",
       "      <th>0</th>\n",
       "      <td>16.0</td>\n",
       "      <td>6.566231</td>\n",
       "      <td>2.907983</td>\n",
       "      <td>Mega</td>\n",
       "      <td>54.732757</td>\n",
       "    </tr>\n",
       "    <tr>\n",
       "      <th>1</th>\n",
       "      <td>13.0</td>\n",
       "      <td>9.237765</td>\n",
       "      <td>2.409567</td>\n",
       "      <td>Mega</td>\n",
       "      <td>46.677897</td>\n",
       "    </tr>\n",
       "    <tr>\n",
       "      <th>2</th>\n",
       "      <td>41.0</td>\n",
       "      <td>15.886446</td>\n",
       "      <td>2.913410</td>\n",
       "      <td>Mega</td>\n",
       "      <td>150.177829</td>\n",
       "    </tr>\n",
       "    <tr>\n",
       "      <th>3</th>\n",
       "      <td>83.0</td>\n",
       "      <td>30.020028</td>\n",
       "      <td>6.922304</td>\n",
       "      <td>Mega</td>\n",
       "      <td>298.246340</td>\n",
       "    </tr>\n",
       "    <tr>\n",
       "      <th>4</th>\n",
       "      <td>15.0</td>\n",
       "      <td>8.437408</td>\n",
       "      <td>1.405998</td>\n",
       "      <td>Micro</td>\n",
       "      <td>56.594181</td>\n",
       "    </tr>\n",
       "  </tbody>\n",
       "</table>\n",
       "</div>"
      ],
      "text/plain": [
       "     TV      Radio  Social Media Influencer       Sales\n",
       "0  16.0   6.566231      2.907983       Mega   54.732757\n",
       "1  13.0   9.237765      2.409567       Mega   46.677897\n",
       "2  41.0  15.886446      2.913410       Mega  150.177829\n",
       "3  83.0  30.020028      6.922304       Mega  298.246340\n",
       "4  15.0   8.437408      1.405998      Micro   56.594181"
      ]
     },
     "execution_count": 2,
     "metadata": {},
     "output_type": "execute_result"
    }
   ],
   "source": [
    "df = pd.read_csv('data/data.csv')\n",
    "df.head()"
   ]
  },
  {
   "cell_type": "code",
   "execution_count": 3,
   "id": "10958609",
   "metadata": {},
   "outputs": [
    {
     "data": {
      "text/plain": [
       "TV              float64\n",
       "Radio           float64\n",
       "Social Media    float64\n",
       "Influencer       object\n",
       "Sales           float64\n",
       "dtype: object"
      ]
     },
     "execution_count": 3,
     "metadata": {},
     "output_type": "execute_result"
    }
   ],
   "source": [
    "df.dtypes"
   ]
  },
  {
   "cell_type": "code",
   "execution_count": 4,
   "id": "ec9483db",
   "metadata": {},
   "outputs": [
    {
     "data": {
      "text/plain": [
       "4572"
      ]
     },
     "execution_count": 4,
     "metadata": {},
     "output_type": "execute_result"
    }
   ],
   "source": [
    "len(df)"
   ]
  },
  {
   "cell_type": "code",
   "execution_count": 5,
   "id": "bfede540",
   "metadata": {},
   "outputs": [
    {
     "data": {
      "text/plain": [
       "TV              0\n",
       "Radio           0\n",
       "Social Media    0\n",
       "Influencer      0\n",
       "Sales           0\n",
       "dtype: int64"
      ]
     },
     "execution_count": 5,
     "metadata": {},
     "output_type": "execute_result"
    }
   ],
   "source": [
    "df.dropna(inplace=True)\n",
    "df.isna().sum()"
   ]
  },
  {
   "cell_type": "code",
   "execution_count": 6,
   "id": "153c1d0c",
   "metadata": {},
   "outputs": [
    {
     "data": {
      "text/plain": [
       "4546"
      ]
     },
     "execution_count": 6,
     "metadata": {},
     "output_type": "execute_result"
    }
   ],
   "source": [
    "len(df)"
   ]
  },
  {
   "cell_type": "code",
   "execution_count": 7,
   "id": "36a0e858",
   "metadata": {},
   "outputs": [
    {
     "data": {
      "text/html": [
       "<div>\n",
       "<style scoped>\n",
       "    .dataframe tbody tr th:only-of-type {\n",
       "        vertical-align: middle;\n",
       "    }\n",
       "\n",
       "    .dataframe tbody tr th {\n",
       "        vertical-align: top;\n",
       "    }\n",
       "\n",
       "    .dataframe thead th {\n",
       "        text-align: right;\n",
       "    }\n",
       "</style>\n",
       "<table border=\"1\" class=\"dataframe\">\n",
       "  <thead>\n",
       "    <tr style=\"text-align: right;\">\n",
       "      <th></th>\n",
       "      <th>TV</th>\n",
       "      <th>Radio</th>\n",
       "      <th>Social Media</th>\n",
       "      <th>Sales</th>\n",
       "    </tr>\n",
       "  </thead>\n",
       "  <tbody>\n",
       "    <tr>\n",
       "      <th>0</th>\n",
       "      <td>16.0</td>\n",
       "      <td>6.566231</td>\n",
       "      <td>2.907983</td>\n",
       "      <td>54.732757</td>\n",
       "    </tr>\n",
       "    <tr>\n",
       "      <th>1</th>\n",
       "      <td>13.0</td>\n",
       "      <td>9.237765</td>\n",
       "      <td>2.409567</td>\n",
       "      <td>46.677897</td>\n",
       "    </tr>\n",
       "    <tr>\n",
       "      <th>2</th>\n",
       "      <td>41.0</td>\n",
       "      <td>15.886446</td>\n",
       "      <td>2.913410</td>\n",
       "      <td>150.177829</td>\n",
       "    </tr>\n",
       "    <tr>\n",
       "      <th>3</th>\n",
       "      <td>83.0</td>\n",
       "      <td>30.020028</td>\n",
       "      <td>6.922304</td>\n",
       "      <td>298.246340</td>\n",
       "    </tr>\n",
       "    <tr>\n",
       "      <th>4</th>\n",
       "      <td>15.0</td>\n",
       "      <td>8.437408</td>\n",
       "      <td>1.405998</td>\n",
       "      <td>56.594181</td>\n",
       "    </tr>\n",
       "  </tbody>\n",
       "</table>\n",
       "</div>"
      ],
      "text/plain": [
       "     TV      Radio  Social Media       Sales\n",
       "0  16.0   6.566231      2.907983   54.732757\n",
       "1  13.0   9.237765      2.409567   46.677897\n",
       "2  41.0  15.886446      2.913410  150.177829\n",
       "3  83.0  30.020028      6.922304  298.246340\n",
       "4  15.0   8.437408      1.405998   56.594181"
      ]
     },
     "execution_count": 7,
     "metadata": {},
     "output_type": "execute_result"
    }
   ],
   "source": [
    "data = df.drop(\"Influencer\", axis=1)\n",
    "data.head()"
   ]
  },
  {
   "cell_type": "code",
   "execution_count": 8,
   "id": "94ff4b62",
   "metadata": {},
   "outputs": [],
   "source": [
    "data[\"Total\"] = (data[\"TV\"] + data[\"Radio\"] + data[\"Social Media\"])\n",
    "data[\"Profit\"] = (data[\"Sales\"] - data[\"Total\"]) / data[\"Total\"] * 100\n",
    "data[\"TV\"] = data[\"TV\"] / data[\"Total\"] * 100\n",
    "data[\"Radio\"] = data[\"Radio\"] / data[\"Total\"] * 100\n",
    "data[\"Social Media\"] = data[\"Social Media\"] / data[\"Total\"] * 100"
   ]
  },
  {
   "cell_type": "code",
   "execution_count": 9,
   "id": "b7c342a4",
   "metadata": {},
   "outputs": [
    {
     "data": {
      "text/html": [
       "<div>\n",
       "<style scoped>\n",
       "    .dataframe tbody tr th:only-of-type {\n",
       "        vertical-align: middle;\n",
       "    }\n",
       "\n",
       "    .dataframe tbody tr th {\n",
       "        vertical-align: top;\n",
       "    }\n",
       "\n",
       "    .dataframe thead th {\n",
       "        text-align: right;\n",
       "    }\n",
       "</style>\n",
       "<table border=\"1\" class=\"dataframe\">\n",
       "  <thead>\n",
       "    <tr style=\"text-align: right;\">\n",
       "      <th></th>\n",
       "      <th>TV</th>\n",
       "      <th>Radio</th>\n",
       "      <th>Social Media</th>\n",
       "      <th>Sales</th>\n",
       "      <th>Total</th>\n",
       "      <th>Profit</th>\n",
       "    </tr>\n",
       "  </thead>\n",
       "  <tbody>\n",
       "    <tr>\n",
       "      <th>0</th>\n",
       "      <td>62.808612</td>\n",
       "      <td>25.775990</td>\n",
       "      <td>11.415398</td>\n",
       "      <td>54.732757</td>\n",
       "      <td>25.474214</td>\n",
       "      <td>114.855532</td>\n",
       "    </tr>\n",
       "    <tr>\n",
       "      <th>1</th>\n",
       "      <td>52.744046</td>\n",
       "      <td>37.479775</td>\n",
       "      <td>9.776179</td>\n",
       "      <td>46.677897</td>\n",
       "      <td>24.647332</td>\n",
       "      <td>89.383165</td>\n",
       "    </tr>\n",
       "    <tr>\n",
       "      <th>2</th>\n",
       "      <td>68.562038</td>\n",
       "      <td>26.566027</td>\n",
       "      <td>4.871935</td>\n",
       "      <td>150.177829</td>\n",
       "      <td>59.799856</td>\n",
       "      <td>151.134097</td>\n",
       "    </tr>\n",
       "    <tr>\n",
       "      <th>3</th>\n",
       "      <td>69.199922</td>\n",
       "      <td>25.028718</td>\n",
       "      <td>5.771360</td>\n",
       "      <td>298.246340</td>\n",
       "      <td>119.942332</td>\n",
       "      <td>148.658113</td>\n",
       "    </tr>\n",
       "    <tr>\n",
       "      <th>4</th>\n",
       "      <td>60.378195</td>\n",
       "      <td>33.962363</td>\n",
       "      <td>5.659442</td>\n",
       "      <td>56.594181</td>\n",
       "      <td>24.843406</td>\n",
       "      <td>127.803632</td>\n",
       "    </tr>\n",
       "    <tr>\n",
       "      <th>...</th>\n",
       "      <td>...</td>\n",
       "      <td>...</td>\n",
       "      <td>...</td>\n",
       "      <td>...</td>\n",
       "      <td>...</td>\n",
       "      <td>...</td>\n",
       "    </tr>\n",
       "    <tr>\n",
       "      <th>4567</th>\n",
       "      <td>83.361520</td>\n",
       "      <td>14.339336</td>\n",
       "      <td>2.299144</td>\n",
       "      <td>94.685866</td>\n",
       "      <td>31.189450</td>\n",
       "      <td>203.582989</td>\n",
       "    </tr>\n",
       "    <tr>\n",
       "      <th>4568</th>\n",
       "      <td>72.333645</td>\n",
       "      <td>20.997831</td>\n",
       "      <td>6.668523</td>\n",
       "      <td>249.101915</td>\n",
       "      <td>98.156259</td>\n",
       "      <td>153.780981</td>\n",
       "    </tr>\n",
       "    <tr>\n",
       "      <th>4569</th>\n",
       "      <td>63.864130</td>\n",
       "      <td>28.738964</td>\n",
       "      <td>7.396906</td>\n",
       "      <td>163.631457</td>\n",
       "      <td>68.896264</td>\n",
       "      <td>137.504107</td>\n",
       "    </tr>\n",
       "    <tr>\n",
       "      <th>4570</th>\n",
       "      <td>78.474271</td>\n",
       "      <td>19.380537</td>\n",
       "      <td>2.145192</td>\n",
       "      <td>253.610411</td>\n",
       "      <td>90.475514</td>\n",
       "      <td>180.308341</td>\n",
       "    </tr>\n",
       "    <tr>\n",
       "      <th>4571</th>\n",
       "      <td>66.652664</td>\n",
       "      <td>25.338625</td>\n",
       "      <td>8.008711</td>\n",
       "      <td>148.202414</td>\n",
       "      <td>63.013235</td>\n",
       "      <td>135.192517</td>\n",
       "    </tr>\n",
       "  </tbody>\n",
       "</table>\n",
       "<p>4546 rows × 6 columns</p>\n",
       "</div>"
      ],
      "text/plain": [
       "             TV      Radio  Social Media       Sales       Total      Profit\n",
       "0     62.808612  25.775990     11.415398   54.732757   25.474214  114.855532\n",
       "1     52.744046  37.479775      9.776179   46.677897   24.647332   89.383165\n",
       "2     68.562038  26.566027      4.871935  150.177829   59.799856  151.134097\n",
       "3     69.199922  25.028718      5.771360  298.246340  119.942332  148.658113\n",
       "4     60.378195  33.962363      5.659442   56.594181   24.843406  127.803632\n",
       "...         ...        ...           ...         ...         ...         ...\n",
       "4567  83.361520  14.339336      2.299144   94.685866   31.189450  203.582989\n",
       "4568  72.333645  20.997831      6.668523  249.101915   98.156259  153.780981\n",
       "4569  63.864130  28.738964      7.396906  163.631457   68.896264  137.504107\n",
       "4570  78.474271  19.380537      2.145192  253.610411   90.475514  180.308341\n",
       "4571  66.652664  25.338625      8.008711  148.202414   63.013235  135.192517\n",
       "\n",
       "[4546 rows x 6 columns]"
      ]
     },
     "execution_count": 9,
     "metadata": {},
     "output_type": "execute_result"
    }
   ],
   "source": [
    "data"
   ]
  },
  {
   "cell_type": "code",
   "execution_count": 10,
   "id": "a8f4ecd6",
   "metadata": {},
   "outputs": [
    {
     "data": {
      "image/png": "[encoded data removed]",
      "text/plain": [
       "<Figure size 1152x1008 with 6 Axes>"
      ]
     },
     "metadata": {
      "needs_background": "light"
     },
     "output_type": "display_data"
    }
   ],
   "source": [
    "fig, ax = plt.subplots(3, 2, figsize=(16, 14))\n",
    "ax[0, 0].hist(data[\"TV\"])\n",
    "ax[0, 0].set_title(\"TV\")\n",
    "\n",
    "ax[0, 1].hist(data[\"Radio\"])\n",
    "ax[0, 1].set_title(\"Radio\")\n",
    "\n",
    "ax[1, 0].hist(data[\"Social Media\"])\n",
    "ax[1, 0].set_title(\"Social Media\")\n",
    "\n",
    "ax[1, 1].hist(data[\"Profit\"])\n",
    "ax[1, 1].set_title(\"Profit\")\n",
    "\n",
    "ax[2, 0].hist(data[\"Sales\"])\n",
    "ax[2, 0].set_title(\"Sales\")\n",
    "\n",
    "ax[2, 1].hist(data[\"Total\"])\n",
    "ax[2, 1].set_title(\"Total\");"
   ]
  },
  {
   "cell_type": "code",
   "execution_count": 11,
   "id": "668e5146",
   "metadata": {},
   "outputs": [
    {
     "data": {
      "text/plain": [
       "((4546, 2), (4546, 4))"
      ]
     },
     "execution_count": 11,
     "metadata": {},
     "output_type": "execute_result"
    }
   ],
   "source": [
    "X = data.drop([\"TV\", \"Radio\", \"Social Media\", \"Sales\"], axis=1)\n",
    "y = data.drop([\"Profit\", \"Total\"], axis=1)\n",
    "X.shape, y.shape"
   ]
  },
  {
   "cell_type": "code",
   "execution_count": 12,
   "id": "019239d3",
   "metadata": {},
   "outputs": [],
   "source": [
    "from sklearn.model_selection import train_test_split\n",
    "\n",
    "X_train, X_test, y_train, y_test = train_test_split(X, y, test_size=0.2, random_state=42)"
   ]
  },
  {
   "cell_type": "code",
   "execution_count": 13,
   "id": "bad4a1ce",
   "metadata": {},
   "outputs": [
    {
     "data": {
      "text/plain": [
       "((3636, 2), (910, 2), (3636, 4), (910, 4))"
      ]
     },
     "execution_count": 13,
     "metadata": {},
     "output_type": "execute_result"
    }
   ],
   "source": [
    "X_train.shape, X_test.shape, y_train.shape, y_test.shape"
   ]
  },
  {
   "cell_type": "markdown",
   "id": "8404cdd7",
   "metadata": {},
   "source": [
    "## Modelling"
   ]
  },
  {
   "cell_type": "code",
   "execution_count": 14,
   "id": "07038d65",
   "metadata": {},
   "outputs": [
    {
     "data": {
      "text/plain": [
       "0.747036308975622"
      ]
     },
     "execution_count": 14,
     "metadata": {},
     "output_type": "execute_result"
    }
   ],
   "source": [
    "from sklearn.multioutput import MultiOutputRegressor\n",
    "from sklearn.linear_model import LinearRegression\n",
    "np.random.seed(42)\n",
    "\n",
    "model = MultiOutputRegressor(LinearRegression())\n",
    "model.fit(X_train, y_train)\n",
    "model.score(X_test, y_test)"
   ]
  },
  {
   "cell_type": "markdown",
   "id": "1288c462",
   "metadata": {},
   "source": [
    "## Model Evaluation"
   ]
  },
  {
   "cell_type": "code",
   "execution_count": 15,
   "id": "c789662d",
   "metadata": {},
   "outputs": [
    {
     "data": {
      "text/plain": [
       "2.730202787121798"
      ]
     },
     "execution_count": 15,
     "metadata": {},
     "output_type": "execute_result"
    }
   ],
   "source": [
    "from sklearn.metrics import mean_absolute_error as mae\n",
    "y_preds = model.predict(X_test)\n",
    "mae1 = mae(y_test, y_preds)\n",
    "mae1"
   ]
  },
  {
   "cell_type": "code",
   "execution_count": 16,
   "id": "348bc6ba",
   "metadata": {},
   "outputs": [
    {
     "data": {
      "text/plain": [
       "19.904285670223167"
      ]
     },
     "execution_count": 16,
     "metadata": {},
     "output_type": "execute_result"
    }
   ],
   "source": [
    "from sklearn.metrics import mean_squared_error as mse\n",
    "y_preds = model.predict(X_test)\n",
    "mse1 = mse(y_test, y_preds)\n",
    "mse1"
   ]
  },
  {
   "cell_type": "code",
   "execution_count": 17,
   "id": "8294faa9",
   "metadata": {},
   "outputs": [
    {
     "name": "stdout",
     "output_type": "stream",
     "text": [
      "The percentages of distribution sums up to: 100.0 and the estimated sales is: 62.89 million\n"
     ]
    }
   ],
   "source": [
    "print(f\"The percentages of distribution sums up to: {sum(y_preds[1, :3])} and the estimated sales is: {y_preds[1, 3]:.2f} million\")"
   ]
  },
  {
   "cell_type": "code",
   "execution_count": 18,
   "id": "159ae3f8",
   "metadata": {},
   "outputs": [
    {
     "name": "stdout",
     "output_type": "stream",
     "text": [
      "910 out of 910 add up to 100%\n"
     ]
    }
   ],
   "source": [
    "def check_percentages(y_preds=y_preds):\n",
    "    a = 0\n",
    "    for i in range(910):\n",
    "        if round(sum(y_preds[i, :3]), 2) == 100.0:\n",
    "                a += 1\n",
    "\n",
    "    print(f\"{a} out of {len(y_preds)} add up to 100%\")\n",
    "\n",
    "check_percentages()"
   ]
  },
  {
   "cell_type": "code",
   "execution_count": 19,
   "id": "ba3e81b4",
   "metadata": {},
   "outputs": [
    {
     "data": {
      "text/plain": [
       "0"
      ]
     },
     "execution_count": 19,
     "metadata": {},
     "output_type": "execute_result"
    }
   ],
   "source": [
    "def check_negatives(preds):\n",
    "    a = 0\n",
    "    for i in preds:\n",
    "        for j in i:\n",
    "            if j < 0:\n",
    "                a += 1\n",
    "    return a\n",
    "check_negatives(y_preds)"
   ]
  },
  {
   "cell_type": "code",
   "execution_count": 20,
   "id": "36756fa9",
   "metadata": {},
   "outputs": [
    {
     "data": {
      "text/plain": [
       "array([[ 71.59664705,  23.64651984,   4.75683311, 192.42010849]])"
      ]
     },
     "execution_count": 20,
     "metadata": {},
     "output_type": "execute_result"
    }
   ],
   "source": [
    "total_value = data[\"Total\"].mean()\n",
    "profit_value = data[\"Profit\"].mean()\n",
    "\n",
    "preds1 = model.predict(np.array([[total_value, profit_value]]))\n",
    "preds1"
   ]
  },
  {
   "cell_type": "code",
   "execution_count": 21,
   "id": "121445a5",
   "metadata": {},
   "outputs": [
    {
     "data": {
      "image/png": "[encoded data removed]",
      "text/plain": [
       "<Figure size 432x288 with 1 Axes>"
      ]
     },
     "metadata": {},
     "output_type": "display_data"
    }
   ],
   "source": [
    "from matplotlib import pyplot as plt\n",
    "import numpy as np\n",
    "fig = plt.figure()\n",
    "plt.suptitle(\"Budget Distribution\")\n",
    "ax = fig.add_axes([0,0,1,1])\n",
    "ax.axis('equal')\n",
    "media = ['TV', 'Radio', 'Social Media']\n",
    "ax.pie(preds1[0, :3], labels=media, autopct='%1.2f%%')\n",
    "plt.show();"
   ]
  },
  {
   "cell_type": "markdown",
   "id": "64dd3421",
   "metadata": {},
   "source": [
    "## Saving the Model"
   ]
  },
  {
   "cell_type": "code",
   "execution_count": 22,
   "id": "e915161a",
   "metadata": {},
   "outputs": [
    {
     "data": {
      "text/plain": [
       "['./cotm_model.joblib']"
      ]
     },
     "execution_count": 22,
     "metadata": {},
     "output_type": "execute_result"
    }
   ],
   "source": [
    "from joblib import dump, load\n",
    "\n",
    "# Save the model\n",
    "dump(model, \"./cotm_model.joblib\")"
   ]
  }
 ],
 "metadata": {
  "kernelspec": {
   "display_name": "Python 3",
   "language": "python",
   "name": "python3"
  },
  "language_info": {
   "codemirror_mode": {
    "name": "ipython",
    "version": 3
   },
   "file_extension": ".py",
   "mimetype": "text/x-python",
   "name": "python",
   "nbconvert_exporter": "python",
   "pygments_lexer": "ipython3",
   "version": "3.9.4"
  }
 },
 "nbformat": 4,
 "nbformat_minor": 5
}
